{
 "cells": [
  {
   "cell_type": "code",
   "execution_count": 1,
   "metadata": {},
   "outputs": [],
   "source": [
    "%load_ext autoreload\n",
    "%autoreload 2"
   ]
  },
  {
   "cell_type": "code",
   "execution_count": 2,
   "metadata": {},
   "outputs": [],
   "source": [
    "import os\n",
    "import sys\n",
    "import pandas as pd\n",
    "import numpy as np\n",
    "import tensorflow as tf\n",
    "import logging\n",
    "import glob\n",
    "import random\n",
    "import pydicom\n",
    "import json\n",
    "\n",
    "sys.path.append('../')\n",
    "from rsna import utils"
   ]
  },
  {
   "cell_type": "code",
   "execution_count": 3,
   "metadata": {},
   "outputs": [],
   "source": [
    "import boto3"
   ]
  },
  {
   "cell_type": "code",
   "execution_count": 4,
   "metadata": {},
   "outputs": [],
   "source": [
    "import PIL\n"
   ]
  },
  {
   "cell_type": "code",
   "execution_count": 5,
   "metadata": {},
   "outputs": [
    {
     "name": "stdout",
     "output_type": "stream",
     "text": [
      "GCP Credits Request Link - RSNA.txt  stage_1_test_images\r\n",
      "all.zip\t\t\t\t     stage_1_test_images.zip\r\n",
      "label_map.pbtxt\t\t\t     stage_1_train_images\r\n",
      "stage_1_detailed_class_info.csv      stage_1_train_images.zip\r\n",
      "stage_1_sample_submission.csv\t     stage_1_train_labels.csv\r\n"
     ]
    }
   ],
   "source": [
    "! ls /mirco-kaggle/rsna"
   ]
  },
  {
   "cell_type": "code",
   "execution_count": 6,
   "metadata": {},
   "outputs": [],
   "source": [
    "%matplotlib inline\n",
    "import matplotlib.pyplot as plt"
   ]
  },
  {
   "cell_type": "code",
   "execution_count": 7,
   "metadata": {},
   "outputs": [],
   "source": [
    "import sys\n",
    "sys.path.append('../')"
   ]
  },
  {
   "cell_type": "code",
   "execution_count": 8,
   "metadata": {},
   "outputs": [],
   "source": [
    "RAW_DATA_DIR = \"/mirco-kaggle/rsna/\""
   ]
  },
  {
   "cell_type": "code",
   "execution_count": 9,
   "metadata": {},
   "outputs": [],
   "source": [
    "train_dicom_dir = os.path.join(RAW_DATA_DIR, 'stage_1_train_images')\n",
    "test_dicom_dir = os.path.join(RAW_DATA_DIR, 'stage_1_test_images')\n",
    "\n",
    "train_labels = os.path.join(RAW_DATA_DIR, 'stage_1_train_labels.csv')\n",
    "detailed_class_info  = os.path.join(RAW_DATA_DIR, 'stage_1_detailed_class_info.csv')"
   ]
  },
  {
   "cell_type": "markdown",
   "metadata": {},
   "source": [
    "# Data set exploration"
   ]
  },
  {
   "cell_type": "code",
   "execution_count": 10,
   "metadata": {},
   "outputs": [
    {
     "data": {
      "text/html": [
       "<div>\n",
       "<style scoped>\n",
       "    .dataframe tbody tr th:only-of-type {\n",
       "        vertical-align: middle;\n",
       "    }\n",
       "\n",
       "    .dataframe tbody tr th {\n",
       "        vertical-align: top;\n",
       "    }\n",
       "\n",
       "    .dataframe thead th {\n",
       "        text-align: right;\n",
       "    }\n",
       "</style>\n",
       "<table border=\"1\" class=\"dataframe\">\n",
       "  <thead>\n",
       "    <tr style=\"text-align: right;\">\n",
       "      <th></th>\n",
       "      <th>patientId</th>\n",
       "      <th>class</th>\n",
       "    </tr>\n",
       "  </thead>\n",
       "  <tbody>\n",
       "    <tr>\n",
       "      <th>0</th>\n",
       "      <td>0004cfab-14fd-4e49-80ba-63a80b6bddd6</td>\n",
       "      <td>No Lung Opacity / Not Normal</td>\n",
       "    </tr>\n",
       "    <tr>\n",
       "      <th>1</th>\n",
       "      <td>00313ee0-9eaa-42f4-b0ab-c148ed3241cd</td>\n",
       "      <td>No Lung Opacity / Not Normal</td>\n",
       "    </tr>\n",
       "    <tr>\n",
       "      <th>2</th>\n",
       "      <td>00322d4d-1c29-4943-afc9-b6754be640eb</td>\n",
       "      <td>No Lung Opacity / Not Normal</td>\n",
       "    </tr>\n",
       "  </tbody>\n",
       "</table>\n",
       "</div>"
      ],
      "text/plain": [
       "                              patientId                         class\n",
       "0  0004cfab-14fd-4e49-80ba-63a80b6bddd6  No Lung Opacity / Not Normal\n",
       "1  00313ee0-9eaa-42f4-b0ab-c148ed3241cd  No Lung Opacity / Not Normal\n",
       "2  00322d4d-1c29-4943-afc9-b6754be640eb  No Lung Opacity / Not Normal"
      ]
     },
     "execution_count": 10,
     "metadata": {},
     "output_type": "execute_result"
    }
   ],
   "source": [
    "df_detailed_class_info = pd.read_csv(detailed_class_info)\n",
    "df_detailed_class_info.head(3)"
   ]
  },
  {
   "cell_type": "code",
   "execution_count": 11,
   "metadata": {},
   "outputs": [
    {
     "name": "stdout",
     "output_type": "stream",
     "text": [
      "No Lung Opacity / Not Normal    11500\n",
      "Lung Opacity                     8964\n",
      "Normal                           8525\n",
      "Name: class, dtype: int64\n",
      "total: 28989\n"
     ]
    },
    {
     "data": {
      "image/png": "[encoded data removed]",
      "text/plain": [
       "<Figure size 432x216 with 1 Axes>"
      ]
     },
     "metadata": {
      "needs_background": "light"
     },
     "output_type": "display_data"
    }
   ],
   "source": [
    "df_plot = df_detailed_class_info['class'].value_counts()\n",
    "\n",
    "df_plot.plot(kind='bar',\n",
    "             color='gray',\n",
    "             figsize=(6,3))\n",
    "\n",
    "\n",
    "print(f\"{df_plot}\")\n",
    "print(f\"total: {sum(df_plot)}\")"
   ]
  },
  {
   "cell_type": "code",
   "execution_count": 15,
   "metadata": {},
   "outputs": [
    {
     "data": {
      "text/html": [
       "<div>\n",
       "<style scoped>\n",
       "    .dataframe tbody tr th:only-of-type {\n",
       "        vertical-align: middle;\n",
       "    }\n",
       "\n",
       "    .dataframe tbody tr th {\n",
       "        vertical-align: top;\n",
       "    }\n",
       "\n",
       "    .dataframe thead th {\n",
       "        text-align: right;\n",
       "    }\n",
       "</style>\n",
       "<table border=\"1\" class=\"dataframe\">\n",
       "  <thead>\n",
       "    <tr style=\"text-align: right;\">\n",
       "      <th></th>\n",
       "      <th>patientId</th>\n",
       "      <th>x</th>\n",
       "      <th>y</th>\n",
       "      <th>width</th>\n",
       "      <th>height</th>\n",
       "      <th>Target</th>\n",
       "    </tr>\n",
       "  </thead>\n",
       "  <tbody>\n",
       "    <tr>\n",
       "      <th>0</th>\n",
       "      <td>0004cfab-14fd-4e49-80ba-63a80b6bddd6</td>\n",
       "      <td>NaN</td>\n",
       "      <td>NaN</td>\n",
       "      <td>NaN</td>\n",
       "      <td>NaN</td>\n",
       "      <td>0</td>\n",
       "    </tr>\n",
       "    <tr>\n",
       "      <th>1</th>\n",
       "      <td>00313ee0-9eaa-42f4-b0ab-c148ed3241cd</td>\n",
       "      <td>NaN</td>\n",
       "      <td>NaN</td>\n",
       "      <td>NaN</td>\n",
       "      <td>NaN</td>\n",
       "      <td>0</td>\n",
       "    </tr>\n",
       "    <tr>\n",
       "      <th>2</th>\n",
       "      <td>00322d4d-1c29-4943-afc9-b6754be640eb</td>\n",
       "      <td>NaN</td>\n",
       "      <td>NaN</td>\n",
       "      <td>NaN</td>\n",
       "      <td>NaN</td>\n",
       "      <td>0</td>\n",
       "    </tr>\n",
       "    <tr>\n",
       "      <th>3</th>\n",
       "      <td>003d8fa0-6bf1-40ed-b54c-ac657f8495c5</td>\n",
       "      <td>NaN</td>\n",
       "      <td>NaN</td>\n",
       "      <td>NaN</td>\n",
       "      <td>NaN</td>\n",
       "      <td>0</td>\n",
       "    </tr>\n",
       "    <tr>\n",
       "      <th>4</th>\n",
       "      <td>00436515-870c-4b36-a041-de91049b9ab4</td>\n",
       "      <td>264.0</td>\n",
       "      <td>152.0</td>\n",
       "      <td>213.0</td>\n",
       "      <td>379.0</td>\n",
       "      <td>1</td>\n",
       "    </tr>\n",
       "    <tr>\n",
       "      <th>5</th>\n",
       "      <td>00436515-870c-4b36-a041-de91049b9ab4</td>\n",
       "      <td>562.0</td>\n",
       "      <td>152.0</td>\n",
       "      <td>256.0</td>\n",
       "      <td>453.0</td>\n",
       "      <td>1</td>\n",
       "    </tr>\n",
       "    <tr>\n",
       "      <th>6</th>\n",
       "      <td>00569f44-917d-4c86-a842-81832af98c30</td>\n",
       "      <td>NaN</td>\n",
       "      <td>NaN</td>\n",
       "      <td>NaN</td>\n",
       "      <td>NaN</td>\n",
       "      <td>0</td>\n",
       "    </tr>\n",
       "    <tr>\n",
       "      <th>7</th>\n",
       "      <td>006cec2e-6ce2-4549-bffa-eadfcd1e9970</td>\n",
       "      <td>NaN</td>\n",
       "      <td>NaN</td>\n",
       "      <td>NaN</td>\n",
       "      <td>NaN</td>\n",
       "      <td>0</td>\n",
       "    </tr>\n",
       "    <tr>\n",
       "      <th>8</th>\n",
       "      <td>00704310-78a8-4b38-8475-49f4573b2dbb</td>\n",
       "      <td>323.0</td>\n",
       "      <td>577.0</td>\n",
       "      <td>160.0</td>\n",
       "      <td>104.0</td>\n",
       "      <td>1</td>\n",
       "    </tr>\n",
       "    <tr>\n",
       "      <th>9</th>\n",
       "      <td>00704310-78a8-4b38-8475-49f4573b2dbb</td>\n",
       "      <td>695.0</td>\n",
       "      <td>575.0</td>\n",
       "      <td>162.0</td>\n",
       "      <td>137.0</td>\n",
       "      <td>1</td>\n",
       "    </tr>\n",
       "  </tbody>\n",
       "</table>\n",
       "</div>"
      ],
      "text/plain": [
       "                              patientId      x      y  width  height  Target\n",
       "0  0004cfab-14fd-4e49-80ba-63a80b6bddd6    NaN    NaN    NaN     NaN       0\n",
       "1  00313ee0-9eaa-42f4-b0ab-c148ed3241cd    NaN    NaN    NaN     NaN       0\n",
       "2  00322d4d-1c29-4943-afc9-b6754be640eb    NaN    NaN    NaN     NaN       0\n",
       "3  003d8fa0-6bf1-40ed-b54c-ac657f8495c5    NaN    NaN    NaN     NaN       0\n",
       "4  00436515-870c-4b36-a041-de91049b9ab4  264.0  152.0  213.0   379.0       1\n",
       "5  00436515-870c-4b36-a041-de91049b9ab4  562.0  152.0  256.0   453.0       1\n",
       "6  00569f44-917d-4c86-a842-81832af98c30    NaN    NaN    NaN     NaN       0\n",
       "7  006cec2e-6ce2-4549-bffa-eadfcd1e9970    NaN    NaN    NaN     NaN       0\n",
       "8  00704310-78a8-4b38-8475-49f4573b2dbb  323.0  577.0  160.0   104.0       1\n",
       "9  00704310-78a8-4b38-8475-49f4573b2dbb  695.0  575.0  162.0   137.0       1"
      ]
     },
     "execution_count": 15,
     "metadata": {},
     "output_type": "execute_result"
    }
   ],
   "source": [
    "df_train_labels = pd.read_csv(train_labels)\n",
    "df_train_labels.head(10)"
   ]
  },
  {
   "cell_type": "markdown",
   "metadata": {},
   "source": [
    "## make annotation dict"
   ]
  },
  {
   "cell_type": "code",
   "execution_count": 16,
   "metadata": {},
   "outputs": [],
   "source": [
    "label_map = {0: 'other', 1: 'high_density'}"
   ]
  },
  {
   "cell_type": "code",
   "execution_count": 17,
   "metadata": {},
   "outputs": [],
   "source": [
    "df_train_labels = df_train_labels.assign(label_idx = df_train_labels['Target']).head(5000)\n",
    "df_train_labels['label'] = df_train_labels['label_idx'].apply(lambda x: label_map[x])"
   ]
  },
  {
   "cell_type": "code",
   "execution_count": 18,
   "metadata": {},
   "outputs": [
    {
     "data": {
      "text/html": [
       "<div>\n",
       "<style scoped>\n",
       "    .dataframe tbody tr th:only-of-type {\n",
       "        vertical-align: middle;\n",
       "    }\n",
       "\n",
       "    .dataframe tbody tr th {\n",
       "        vertical-align: top;\n",
       "    }\n",
       "\n",
       "    .dataframe thead th {\n",
       "        text-align: right;\n",
       "    }\n",
       "</style>\n",
       "<table border=\"1\" class=\"dataframe\">\n",
       "  <thead>\n",
       "    <tr style=\"text-align: right;\">\n",
       "      <th></th>\n",
       "      <th>patientId</th>\n",
       "      <th>x</th>\n",
       "      <th>y</th>\n",
       "      <th>width</th>\n",
       "      <th>height</th>\n",
       "      <th>Target</th>\n",
       "      <th>label_idx</th>\n",
       "      <th>label</th>\n",
       "    </tr>\n",
       "  </thead>\n",
       "  <tbody>\n",
       "    <tr>\n",
       "      <th>0</th>\n",
       "      <td>0004cfab-14fd-4e49-80ba-63a80b6bddd6</td>\n",
       "      <td>NaN</td>\n",
       "      <td>NaN</td>\n",
       "      <td>NaN</td>\n",
       "      <td>NaN</td>\n",
       "      <td>0</td>\n",
       "      <td>0</td>\n",
       "      <td>other</td>\n",
       "    </tr>\n",
       "    <tr>\n",
       "      <th>1</th>\n",
       "      <td>00313ee0-9eaa-42f4-b0ab-c148ed3241cd</td>\n",
       "      <td>NaN</td>\n",
       "      <td>NaN</td>\n",
       "      <td>NaN</td>\n",
       "      <td>NaN</td>\n",
       "      <td>0</td>\n",
       "      <td>0</td>\n",
       "      <td>other</td>\n",
       "    </tr>\n",
       "    <tr>\n",
       "      <th>2</th>\n",
       "      <td>00322d4d-1c29-4943-afc9-b6754be640eb</td>\n",
       "      <td>NaN</td>\n",
       "      <td>NaN</td>\n",
       "      <td>NaN</td>\n",
       "      <td>NaN</td>\n",
       "      <td>0</td>\n",
       "      <td>0</td>\n",
       "      <td>other</td>\n",
       "    </tr>\n",
       "    <tr>\n",
       "      <th>3</th>\n",
       "      <td>003d8fa0-6bf1-40ed-b54c-ac657f8495c5</td>\n",
       "      <td>NaN</td>\n",
       "      <td>NaN</td>\n",
       "      <td>NaN</td>\n",
       "      <td>NaN</td>\n",
       "      <td>0</td>\n",
       "      <td>0</td>\n",
       "      <td>other</td>\n",
       "    </tr>\n",
       "    <tr>\n",
       "      <th>4</th>\n",
       "      <td>00436515-870c-4b36-a041-de91049b9ab4</td>\n",
       "      <td>264.0</td>\n",
       "      <td>152.0</td>\n",
       "      <td>213.0</td>\n",
       "      <td>379.0</td>\n",
       "      <td>1</td>\n",
       "      <td>1</td>\n",
       "      <td>high_density</td>\n",
       "    </tr>\n",
       "  </tbody>\n",
       "</table>\n",
       "</div>"
      ],
      "text/plain": [
       "                              patientId      x      y  width  height  Target  \\\n",
       "0  0004cfab-14fd-4e49-80ba-63a80b6bddd6    NaN    NaN    NaN     NaN       0   \n",
       "1  00313ee0-9eaa-42f4-b0ab-c148ed3241cd    NaN    NaN    NaN     NaN       0   \n",
       "2  00322d4d-1c29-4943-afc9-b6754be640eb    NaN    NaN    NaN     NaN       0   \n",
       "3  003d8fa0-6bf1-40ed-b54c-ac657f8495c5    NaN    NaN    NaN     NaN       0   \n",
       "4  00436515-870c-4b36-a041-de91049b9ab4  264.0  152.0  213.0   379.0       1   \n",
       "\n",
       "   label_idx         label  \n",
       "0          0         other  \n",
       "1          0         other  \n",
       "2          0         other  \n",
       "3          0         other  \n",
       "4          1  high_density  "
      ]
     },
     "execution_count": 18,
     "metadata": {},
     "output_type": "execute_result"
    }
   ],
   "source": [
    "df_train_labels.head(5)"
   ]
  },
  {
   "cell_type": "code",
   "execution_count": 19,
   "metadata": {},
   "outputs": [],
   "source": [
    "annotation_dict = utils.get_annotation_dict(df_train_labels=df_train_labels)"
   ]
  },
  {
   "cell_type": "code",
   "execution_count": 20,
   "metadata": {},
   "outputs": [
    {
     "data": {
      "text/plain": [
       "[('0004cfab-14fd-4e49-80ba-63a80b6bddd6', []),\n",
       " ('00313ee0-9eaa-42f4-b0ab-c148ed3241cd', []),\n",
       " ('00322d4d-1c29-4943-afc9-b6754be640eb', []),\n",
       " ('003d8fa0-6bf1-40ed-b54c-ac657f8495c5', []),\n",
       " ('00436515-870c-4b36-a041-de91049b9ab4',\n",
       "  [{'xmin': 264,\n",
       "    'xmax': 477,\n",
       "    'ymin': 152,\n",
       "    'ymax': 531,\n",
       "    'label': 'high_density',\n",
       "    'label_idx': 1},\n",
       "   {'xmin': 562,\n",
       "    'xmax': 818,\n",
       "    'ymin': 152,\n",
       "    'ymax': 605,\n",
       "    'label': 'high_density',\n",
       "    'label_idx': 1}])]"
      ]
     },
     "execution_count": 20,
     "metadata": {},
     "output_type": "execute_result"
    }
   ],
   "source": [
    "list(annotation_dict.items())[0:5]"
   ]
  },
  {
   "cell_type": "markdown",
   "metadata": {},
   "source": [
    "## make tfrecords"
   ]
  },
  {
   "cell_type": "code",
   "execution_count": 21,
   "metadata": {},
   "outputs": [],
   "source": [
    "annot = utils.Annot(annotation_dict)"
   ]
  },
  {
   "cell_type": "code",
   "execution_count": 22,
   "metadata": {},
   "outputs": [
    {
     "name": "stdout",
     "output_type": "stream",
     "text": [
      "train size: 3242\n",
      "train size: 811\n"
     ]
    }
   ],
   "source": [
    "image = annot.create_ml_set(frame_path=train_dicom_dir, out_path='../ml/v1/data/')"
   ]
  },
  {
   "cell_type": "markdown",
   "metadata": {},
   "source": [
    "## visualize things"
   ]
  },
  {
   "cell_type": "code",
   "execution_count": 78,
   "metadata": {},
   "outputs": [
    {
     "data": {
      "text/plain": [
       "{'xmin': [264, 562],\n",
       " 'xmax': [477, 818],\n",
       " 'ymin': [152, 152],\n",
       " 'ymax': [531, 605],\n",
       " 'labels': ['high_density', 'high_density']}"
      ]
     },
     "execution_count": 78,
     "metadata": {},
     "output_type": "execute_result"
    }
   ],
   "source": [
    "annot.get_min_max_bbox(frame_id='00436515-870c-4b36-a041-de91049b9ab4')"
   ]
  },
  {
   "cell_type": "code",
   "execution_count": 79,
   "metadata": {},
   "outputs": [
    {
     "data": {
      "text/plain": [
       "{'xmin': [264, 562],\n",
       " 'widths': [213, 256],\n",
       " 'ymin': [152, 152],\n",
       " 'heights': [379, 453],\n",
       " 'labels': ['high_density', 'high_density']}"
      ]
     },
     "execution_count": 79,
     "metadata": {},
     "output_type": "execute_result"
    }
   ],
   "source": [
    "annot.get_min_size_bbox(frame_id='00436515-870c-4b36-a041-de91049b9ab4')"
   ]
  },
  {
   "cell_type": "code",
   "execution_count": 80,
   "metadata": {},
   "outputs": [
    {
     "data": {
      "text/plain": [
       "78"
      ]
     },
     "execution_count": 80,
     "metadata": {},
     "output_type": "execute_result"
    }
   ],
   "source": [
    "len(annot)"
   ]
  },
  {
   "cell_type": "code",
   "execution_count": 81,
   "metadata": {},
   "outputs": [],
   "source": [
    "image = utils.Annot.get_image(frame_path=train_dicom_dir, frame_id='00436515-870c-4b36-a041-de91049b9ab4')"
   ]
  },
  {
   "cell_type": "code",
   "execution_count": 84,
   "metadata": {},
   "outputs": [
    {
     "data": {
      "text/plain": [
       "{'/mirco-kaggle/rsna/stage_1_train_images/0004cfab-14fd-4e49-80ba-63a80b6bddd6.dcm': [],\n",
       " '/mirco-kaggle/rsna/stage_1_train_images/00313ee0-9eaa-42f4-b0ab-c148ed3241cd.dcm': [],\n",
       " '/mirco-kaggle/rsna/stage_1_train_images/00322d4d-1c29-4943-afc9-b6754be640eb.dcm': [],\n",
       " '/mirco-kaggle/rsna/stage_1_train_images/003d8fa0-6bf1-40ed-b54c-ac657f8495c5.dcm': [],\n",
       " '/mirco-kaggle/rsna/stage_1_train_images/00569f44-917d-4c86-a842-81832af98c30.dcm': [],\n",
       " '/mirco-kaggle/rsna/stage_1_train_images/006cec2e-6ce2-4549-bffa-eadfcd1e9970.dcm': [],\n",
       " '/mirco-kaggle/rsna/stage_1_train_images/00704310-78a8-4b38-8475-49f4573b2dbb.dcm': [{'name': 'high_density',\n",
       "   'xmin': 323,\n",
       "   'xmax': 483,\n",
       "   'ymin': 577,\n",
       "   'ymax': 681},\n",
       "  {'name': 'high_density',\n",
       "   'xmin': 695,\n",
       "   'xmax': 857,\n",
       "   'ymin': 575,\n",
       "   'ymax': 712}],\n",
       " '/mirco-kaggle/rsna/stage_1_train_images/009eb222-eabc-4150-8121-d5a6d06b8ebf.dcm': [],\n",
       " '/mirco-kaggle/rsna/stage_1_train_images/00a85be6-6eb0-421d-8acf-ff2dc0007e8a.dcm': [],\n",
       " '/mirco-kaggle/rsna/stage_1_train_images/00aecb01-a116-45a2-956c-08d2fa55433f.dcm': [{'name': 'high_density',\n",
       "   'xmin': 288,\n",
       "   'xmax': 382,\n",
       "   'ymin': 322,\n",
       "   'ymax': 457},\n",
       "  {'name': 'high_density',\n",
       "   'xmin': 547,\n",
       "   'xmax': 666,\n",
       "   'ymin': 299,\n",
       "   'ymax': 464}],\n",
       " '/mirco-kaggle/rsna/stage_1_train_images/00c0b293-48e7-4e16-ac76-9269ba535a62.dcm': [{'name': 'high_density',\n",
       "   'xmin': 306,\n",
       "   'xmax': 474,\n",
       "   'ymin': 544,\n",
       "   'ymax': 788},\n",
       "  {'name': 'high_density',\n",
       "   'xmin': 650,\n",
       "   'xmax': 856,\n",
       "   'ymin': 511,\n",
       "   'ymax': 795}],\n",
       " '/mirco-kaggle/rsna/stage_1_train_images/00d7c36e-3cdf-4df6-ac03-6c30cdc8e85b.dcm': [],\n",
       " '/mirco-kaggle/rsna/stage_1_train_images/00f08de1-517e-4652-a04f-d1dc9ee48593.dcm': [{'name': 'high_density',\n",
       "   'xmin': 181,\n",
       "   'xmax': 387,\n",
       "   'ymin': 184,\n",
       "   'ymax': 690},\n",
       "  {'name': 'high_density',\n",
       "   'xmin': 571,\n",
       "   'xmax': 801,\n",
       "   'ymin': 275,\n",
       "   'ymax': 751}],\n",
       " '/mirco-kaggle/rsna/stage_1_train_images/00f87de5-5fe0-4921-93ea-914d7e683266.dcm': [],\n",
       " '/mirco-kaggle/rsna/stage_1_train_images/0100515c-5204-4f31-98e0-f35e4b00004a.dcm': [{'name': 'high_density',\n",
       "   'xmin': 703,\n",
       "   'xmax': 787,\n",
       "   'ymin': 416,\n",
       "   'ymax': 493}],\n",
       " '/mirco-kaggle/rsna/stage_1_train_images/01027bc3-dc40-4165-a6c3-d6be2cb7ca34.dcm': [],\n",
       " '/mirco-kaggle/rsna/stage_1_train_images/010ccb9f-6d46-4380-af11-84f87397a1b8.dcm': [{'name': 'high_density',\n",
       "   'xmin': 652,\n",
       "   'xmax': 813,\n",
       "   'ymin': 437,\n",
       "   'ymax': 730},\n",
       "  {'name': 'high_density',\n",
       "   'xmin': 301,\n",
       "   'xmax': 442,\n",
       "   'ymin': 405,\n",
       "   'ymax': 684}],\n",
       " '/mirco-kaggle/rsna/stage_1_train_images/011d6f51-b732-4d45-a84d-90477325ef2d.dcm': [],\n",
       " '/mirco-kaggle/rsna/stage_1_train_images/012a5620-d082-4bb8-9b3b-e72d8938000c.dcm': [{'name': 'high_density',\n",
       "   'xmin': 133,\n",
       "   'xmax': 408,\n",
       "   'ymin': 613,\n",
       "   'ymax': 888},\n",
       "  {'name': 'high_density',\n",
       "   'xmin': 678,\n",
       "   'xmax': 902,\n",
       "   'ymin': 427,\n",
       "   'ymax': 767}],\n",
       " '/mirco-kaggle/rsna/stage_1_train_images/014b7b58-f641-4477-8bbc-ae6f337745d6.dcm': [],\n",
       " '/mirco-kaggle/rsna/stage_1_train_images/0174c4bb-28f5-41e3-a13f-a396badc18bd.dcm': [{'name': 'high_density',\n",
       "   'xmin': 155,\n",
       "   'xmax': 428,\n",
       "   'ymin': 182,\n",
       "   'ymax': 683},\n",
       "  {'name': 'high_density',\n",
       "   'xmin': 599,\n",
       "   'xmax': 826,\n",
       "   'ymin': 220,\n",
       "   'ymax': 728}],\n",
       " '/mirco-kaggle/rsna/stage_1_train_images/017c7b5b-618e-4bc9-943c-04c6a988d992.dcm': [],\n",
       " '/mirco-kaggle/rsna/stage_1_train_images/019ca122-9cdf-4704-b7a9-449c8a1c263e.dcm': [],\n",
       " '/mirco-kaggle/rsna/stage_1_train_images/019d950b-dd38-4cf3-a686-527a75728be6.dcm': [{'name': 'high_density',\n",
       "   'xmin': 229,\n",
       "   'xmax': 479,\n",
       "   'ymin': 318,\n",
       "   'ymax': 619},\n",
       "  {'name': 'high_density',\n",
       "   'xmin': 604,\n",
       "   'xmax': 800,\n",
       "   'ymin': 216,\n",
       "   'ymax': 544}],\n",
       " '/mirco-kaggle/rsna/stage_1_train_images/01a4059c-22f7-4f51-8a27-50aff0b3aeb3.dcm': [],\n",
       " '/mirco-kaggle/rsna/stage_1_train_images/01a5594f-e5d4-4f7a-b79d-3f57559fe37b.dcm': [],\n",
       " '/mirco-kaggle/rsna/stage_1_train_images/01a6eaa6-222f-4ea8-9874-bbd89dc1a1ce.dcm': [{'name': 'high_density',\n",
       "   'xmin': 141,\n",
       "   'xmax': 366,\n",
       "   'ymin': 306,\n",
       "   'ymax': 633},\n",
       "  {'name': 'high_density',\n",
       "   'xmin': 609,\n",
       "   'xmax': 845,\n",
       "   'ymin': 285,\n",
       "   'ymax': 640}],\n",
       " '/mirco-kaggle/rsna/stage_1_train_images/01a7353d-25bb-4ff8-916b-f50dd541dccf.dcm': [{'name': 'high_density',\n",
       "   'xmin': 214,\n",
       "   'xmax': 453,\n",
       "   'ymin': 582,\n",
       "   'ymax': 715},\n",
       "  {'name': 'high_density',\n",
       "   'xmin': 664,\n",
       "   'xmax': 887,\n",
       "   'ymin': 540,\n",
       "   'ymax': 743}],\n",
       " '/mirco-kaggle/rsna/stage_1_train_images/01aad2a6-3b93-45e3-bf37-2d73348cb6fc.dcm': [],\n",
       " '/mirco-kaggle/rsna/stage_1_train_images/01adfd2f-7bc7-4cef-ab68-a0992752b620.dcm': [{'name': 'high_density',\n",
       "   'xmin': 225,\n",
       "   'xmax': 323,\n",
       "   'ymin': 415,\n",
       "   'ymax': 516}],\n",
       " '/mirco-kaggle/rsna/stage_1_train_images/01b15f07-1149-4ff8-9756-bc821e41b97c.dcm': [],\n",
       " '/mirco-kaggle/rsna/stage_1_train_images/01b56434-4dd9-4994-bcc5-0b70a36e415a.dcm': [],\n",
       " '/mirco-kaggle/rsna/stage_1_train_images/01b9e362-4950-40f5-88fa-7557ac2a45bb.dcm': [{'name': 'high_density',\n",
       "   'xmin': 366,\n",
       "   'xmax': 574,\n",
       "   'ymin': 289,\n",
       "   'ymax': 816},\n",
       "  {'name': 'high_density',\n",
       "   'xmin': 714,\n",
       "   'xmax': 969,\n",
       "   'ymin': 278,\n",
       "   'ymax': 854}],\n",
       " '/mirco-kaggle/rsna/stage_1_train_images/01be392f-a46d-4aef-a57e-9cd1a80dd47e.dcm': [{'name': 'high_density',\n",
       "   'xmin': 535,\n",
       "   'xmax': 712,\n",
       "   'ymin': 626,\n",
       "   'ymax': 866},\n",
       "  {'name': 'high_density',\n",
       "   'xmin': 175,\n",
       "   'xmax': 343,\n",
       "   'ymin': 825,\n",
       "   'ymax': 934}],\n",
       " '/mirco-kaggle/rsna/stage_1_train_images/01be3fe5-4a91-4c57-9af6-305966a7d0aa.dcm': [],\n",
       " '/mirco-kaggle/rsna/stage_1_train_images/01c09fb1-a917-46ee-8d94-44f844a4eb85.dcm': [],\n",
       " '/mirco-kaggle/rsna/stage_1_train_images/01c0b605-0a82-401b-9649-81252304ac45.dcm': [],\n",
       " '/mirco-kaggle/rsna/stage_1_train_images/01c7cc7c-7004-441f-9049-77b7b444dd6b.dcm': [],\n",
       " '/mirco-kaggle/rsna/stage_1_train_images/01cc7c75-4498-43ab-b650-5553d0507f76.dcm': [],\n",
       " '/mirco-kaggle/rsna/stage_1_train_images/01cd2ba5-2baf-44b2-bf15-ee57e1ea4599.dcm': [{'name': 'high_density',\n",
       "   'xmin': 664,\n",
       "   'xmax': 805,\n",
       "   'ymin': 380,\n",
       "   'ymax': 710}],\n",
       " '/mirco-kaggle/rsna/stage_1_train_images/01cfa23b-cc98-43af-a61b-56915f90b7ef.dcm': [],\n",
       " '/mirco-kaggle/rsna/stage_1_train_images/01d1f0be-5216-4af5-b2dc-a160c1c56122.dcm': [],\n",
       " '/mirco-kaggle/rsna/stage_1_train_images/01d4fa0f-97a0-4522-b0d8-134400db2a3e.dcm': [{'name': 'high_density',\n",
       "   'xmin': 222,\n",
       "   'xmax': 416,\n",
       "   'ymin': 258,\n",
       "   'ymax': 694},\n",
       "  {'name': 'high_density',\n",
       "   'xmin': 570,\n",
       "   'xmax': 819,\n",
       "   'ymin': 268,\n",
       "   'ymax': 721}],\n",
       " '/mirco-kaggle/rsna/stage_1_train_images/01d72346-4459-4eaa-8a19-d3c92121d17f.dcm': [],\n",
       " '/mirco-kaggle/rsna/stage_1_train_images/01dc817c-3cfa-49fe-8662-518edc30652a.dcm': [{'name': 'high_density',\n",
       "   'xmin': 368,\n",
       "   'xmax': 469,\n",
       "   'ymin': 677,\n",
       "   'ymax': 816}],\n",
       " '/mirco-kaggle/rsna/stage_1_train_images/01e16ddb-682d-4901-b56d-8686c4f9f976.dcm': [],\n",
       " '/mirco-kaggle/rsna/stage_1_train_images/01e800d4-4d8d-4ef5-a40a-f37b923bb7ad.dcm': [],\n",
       " '/mirco-kaggle/rsna/stage_1_train_images/01ee3bcb-d6a8-4586-b0a5-9647969da07d.dcm': [],\n",
       " '/mirco-kaggle/rsna/stage_1_train_images/01ef1712-90a6-4946-ad86-fc76b0cf2d3b.dcm': [],\n",
       " '/mirco-kaggle/rsna/stage_1_train_images/01ef449e-d493-4db2-9162-d83c69f90f40.dcm': [],\n",
       " '/mirco-kaggle/rsna/stage_1_train_images/01f0d9cc-f69e-471a-987a-be73a36e18cc.dcm': [],\n",
       " '/mirco-kaggle/rsna/stage_1_train_images/01f0f4bf-e678-430e-b43d-2968e2c4976c.dcm': [],\n",
       " '/mirco-kaggle/rsna/stage_1_train_images/01f4cd36-caa1-480f-9d8c-92e80cf7b197.dcm': [],\n",
       " '/mirco-kaggle/rsna/stage_1_train_images/01fdfd88-7607-48b9-ba05-a36e8b6fd19b.dcm': [{'name': 'high_density',\n",
       "   'xmin': 319,\n",
       "   'xmax': 489,\n",
       "   'ymin': 437,\n",
       "   'ymax': 726},\n",
       "  {'name': 'high_density',\n",
       "   'xmin': 669,\n",
       "   'xmax': 831,\n",
       "   'ymin': 449,\n",
       "   'ymax': 733}],\n",
       " '/mirco-kaggle/rsna/stage_1_train_images/01fe92f7-ff87-4f9e-9077-e00e670d1b47.dcm': [],\n",
       " '/mirco-kaggle/rsna/stage_1_train_images/02002619-3dea-4038-8d4d-458db30ed8de.dcm': [{'name': 'high_density',\n",
       "   'xmin': 647,\n",
       "   'xmax': 889,\n",
       "   'ymin': 403,\n",
       "   'ymax': 789},\n",
       "  {'name': 'high_density',\n",
       "   'xmin': 193,\n",
       "   'xmax': 396,\n",
       "   'ymin': 360,\n",
       "   'ymax': 789}],\n",
       " '/mirco-kaggle/rsna/stage_1_train_images/020380f8-5c5a-4ded-bdf3-9ce3036945b4.dcm': [{'name': 'high_density',\n",
       "   'xmin': 283,\n",
       "   'xmax': 440,\n",
       "   'ymin': 453,\n",
       "   'ymax': 726},\n",
       "  {'name': 'high_density',\n",
       "   'xmin': 642,\n",
       "   'xmax': 809,\n",
       "   'ymin': 460,\n",
       "   'ymax': 718}],\n",
       " '/mirco-kaggle/rsna/stage_1_train_images/02051597-8a40-4586-88e1-8e62e421981f.dcm': [],\n",
       " '/mirco-kaggle/rsna/stage_1_train_images/020a16e3-baf9-4cf0-859c-c79b5253d717.dcm': [{'name': 'high_density',\n",
       "   'xmin': 698,\n",
       "   'xmax': 924,\n",
       "   'ymin': 288,\n",
       "   'ymax': 599},\n",
       "  {'name': 'high_density',\n",
       "   'xmin': 326,\n",
       "   'xmax': 507,\n",
       "   'ymin': 212,\n",
       "   'ymax': 487}],\n",
       " '/mirco-kaggle/rsna/stage_1_train_images/020fb648-3b1e-404a-a0b4-f25d6b277c1a.dcm': [],\n",
       " '/mirco-kaggle/rsna/stage_1_train_images/021443b8-0e56-4ce2-87e2-53302d8441ca.dcm': [],\n",
       " '/mirco-kaggle/rsna/stage_1_train_images/0216bae7-3ab6-4857-8cc1-3afe8dab3964.dcm': []}"
      ]
     },
     "execution_count": 84,
     "metadata": {},
     "output_type": "execute_result"
    }
   ],
   "source": [
    "\n",
    "def get_bbox_from_tfrec(example, label_idx, source=\"detection\"):\n",
    "    \"\"\"Extracting bbox from tf record files.\n",
    "    Args:\n",
    "        source: Either detect or object, default value is detect.\n",
    "        example: tf.train.Example()\n",
    "        label_idx: idx of the bbox.\n",
    "    Returns:\n",
    "        xmin, xmax, ymin, ymax of boxes.\n",
    "    Raises:\n",
    "        ValueError: in case the user mistakenly type wrong source.\n",
    "    \"\"\"\n",
    "    if source not in [\"object\", \"detection\"]:\n",
    "        raise ValueError(\"The source has to be either detect or object.\")\n",
    "\n",
    "    xmin = example.features.feature[f\"image/{source}/bbox/xmin\"].float_list.value[label_idx]\n",
    "    xmax = example.features.feature[f\"image/{source}/bbox/xmax\"].float_list.value[label_idx]\n",
    "    ymin = example.features.feature[f\"image/{source}/bbox/ymin\"].float_list.value[label_idx]\n",
    "    ymax = example.features.feature[f\"image/{source}/bbox/ymax\"].float_list.value[label_idx]\n",
    "\n",
    "    return xmin, xmax, ymin, ymax\n",
    "\n",
    "def get_frame_metadata_from_tfrec(example):\n",
    "    \"\"\"Get basic frame information from tfrecord files.\n",
    "    Args:\n",
    "        example: tf.train.Example()\n",
    "    Returns:\n",
    "        frame_id, height, width of the frame.\n",
    "    \"\"\"\n",
    "    frame_id = example.features.feature[\"image/filename\"].bytes_list.value[0]\n",
    "    height = example.features.feature[\"image/height\"].int64_list.value[0]\n",
    "    width = example.features.feature[\"image/width\"].int64_list.value[0]\n",
    "\n",
    "    return frame_id, height, width\n",
    "\n",
    "\n",
    "def _from_gt_tfrec(tfrec_path):\n",
    "    annots = {}\n",
    "    for string_record in tf.python_io.tf_record_iterator(path=tfrec_path):\n",
    "        example = tf.train.Example()\n",
    "        example.ParseFromString(string_record)\n",
    "\n",
    "        frame_id, height, width = get_frame_metadata_from_tfrec(example)\n",
    "        labels = example.features.feature[\"image/object/class/text\"].bytes_list.value\n",
    "\n",
    "        deepturn_annots = []\n",
    "        for idx, label in enumerate(labels):\n",
    "            xmin, xmax, ymin, ymax = get_bbox_from_tfrec(source=\"object\",\n",
    "                                                               example=example,\n",
    "                                                               label_idx=idx)\n",
    "\n",
    "            deepturn_annots.append(\n",
    "                dict(\n",
    "                    name=label.decode(\"utf-8\"),\n",
    "                    xmin=round(xmin * width),\n",
    "                    xmax=round(xmax * width),\n",
    "                    ymin=round(ymin * height),\n",
    "                    ymax=round(ymax * height),\n",
    "                )\n",
    "            )\n",
    "        annots[frame_id.decode(\"utf-8\")] = deepturn_annots\n",
    "\n",
    "    return annots\n",
    "\n",
    "\n",
    "_from_gt_tfrec('../ml/v1/data/train.tfrec')"
   ]
  },
  {
   "cell_type": "code",
   "execution_count": 85,
   "metadata": {},
   "outputs": [
    {
     "data": {
      "text/plain": [
       "<matplotlib.patches.Rectangle at 0x7f02ee921e80>"
      ]
     },
     "execution_count": 85,
     "metadata": {},
     "output_type": "execute_result"
    },
    {
     "data": {
      "image/png": "[encoded data removed]",
      "text/plain": [
       "<Figure size 720x720 with 1 Axes>"
      ]
     },
     "metadata": {
      "needs_background": "light"
     },
     "output_type": "display_data"
    }
   ],
   "source": [
    "# Load and display random samples and their bounding boxes\n",
    "# Suggestion: Run this a few times to see different examples. \n",
    "\n",
    "\n",
    "\n",
    "plt.figure(figsize=(10, 10))\n",
    "plt.subplot(1, 2, 1)\n",
    "plt.imshow(image, cmap='gray')\n",
    "# plt.axis('off')\n",
    "\n",
    "# plt.subplot(1, 2, 2)\n",
    "# masked = np.zeros(image.shape[:2])\n",
    "\n",
    "# plt.imshow(masked, cmap='gray')\n",
    "# plt.axis('off')\n",
    "\n",
    "# print(image_fp)\n",
    "# print(class_ids)\n",
    "\n",
    "\n",
    "rect = plt.Rectangle((264, 152), 213, 379)\n",
    "# plt.Rectangle()\n",
    "\n",
    "plt.gca().add_patch(rect)"
   ]
  },
  {
   "cell_type": "code",
   "execution_count": null,
   "metadata": {},
   "outputs": [],
   "source": []
  }
 ],
 "metadata": {
  "kernelspec": {
   "display_name": "Python 3",
   "language": "python",
   "name": "python3"
  },
  "language_info": {
   "codemirror_mode": {
    "name": "ipython",
    "version": 3
   },
   "file_extension": ".py",
   "mimetype": "text/x-python",
   "name": "python",
   "nbconvert_exporter": "python",
   "pygments_lexer": "ipython3",
   "version": "3.6.6"
  }
 },
 "nbformat": 4,
 "nbformat_minor": 2
}
