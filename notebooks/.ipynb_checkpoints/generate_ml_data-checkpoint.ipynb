{
 "cells": [
  {
   "cell_type": "code",
   "execution_count": 215,
   "metadata": {},
   "outputs": [
    {
     "name": "stdout",
     "output_type": "stream",
     "text": [
      "The autoreload extension is already loaded. To reload it, use:\n",
      "  %reload_ext autoreload\n"
     ]
    }
   ],
   "source": [
    "%load_ext autoreload\n",
    "%autoreload 2"
   ]
  },
  {
   "cell_type": "code",
   "execution_count": 216,
   "metadata": {},
   "outputs": [],
   "source": [
    "import os\n",
    "import pandas as pd\n",
    "import numpy as np\n",
    "\n",
    "import tensorflow as tf\n",
    "from tqdm import tqdm\n",
    "import logging\n",
    "\n",
    "import glob\n",
    "import random"
   ]
  },
  {
   "cell_type": "code",
   "execution_count": 217,
   "metadata": {},
   "outputs": [],
   "source": [
    "%matplotlib inline\n",
    "import matplotlib.pyplot as plt"
   ]
  },
  {
   "cell_type": "code",
   "execution_count": 218,
   "metadata": {},
   "outputs": [],
   "source": [
    "import sys\n",
    "sys.path.append('../')"
   ]
  },
  {
   "cell_type": "code",
   "execution_count": 219,
   "metadata": {},
   "outputs": [],
   "source": [
    "\n",
    "from rsna import utils"
   ]
  },
  {
   "cell_type": "code",
   "execution_count": 220,
   "metadata": {},
   "outputs": [],
   "source": [
    "import pydicom"
   ]
  },
  {
   "cell_type": "code",
   "execution_count": 221,
   "metadata": {},
   "outputs": [],
   "source": [
    "HOME_DIR = \"../\""
   ]
  },
  {
   "cell_type": "code",
   "execution_count": 222,
   "metadata": {},
   "outputs": [],
   "source": [
    "train_dicom_dir = os.path.join(HOME_DIR, 'data', 'stage_1_train_images')\n",
    "test_dicom_dir = os.path.join(HOME_DIR, 'data', 'stage_1_test_images')\n",
    "\n",
    "train_labels = os.path.join(HOME_DIR, 'data', 'stage_1_train_labels.csv')\n",
    "detailed_class_info  = os.path.join(HOME_DIR, 'data', 'stage_1_detailed_class_info.csv')"
   ]
  },
  {
   "cell_type": "markdown",
   "metadata": {},
   "source": [
    "# Data set exploration"
   ]
  },
  {
   "cell_type": "code",
   "execution_count": 223,
   "metadata": {},
   "outputs": [
    {
     "data": {
      "text/html": [
       "<div>\n",
       "<style scoped>\n",
       "    .dataframe tbody tr th:only-of-type {\n",
       "        vertical-align: middle;\n",
       "    }\n",
       "\n",
       "    .dataframe tbody tr th {\n",
       "        vertical-align: top;\n",
       "    }\n",
       "\n",
       "    .dataframe thead th {\n",
       "        text-align: right;\n",
       "    }\n",
       "</style>\n",
       "<table border=\"1\" class=\"dataframe\">\n",
       "  <thead>\n",
       "    <tr style=\"text-align: right;\">\n",
       "      <th></th>\n",
       "      <th>patientId</th>\n",
       "      <th>class</th>\n",
       "    </tr>\n",
       "  </thead>\n",
       "  <tbody>\n",
       "    <tr>\n",
       "      <th>0</th>\n",
       "      <td>0004cfab-14fd-4e49-80ba-63a80b6bddd6</td>\n",
       "      <td>No Lung Opacity / Not Normal</td>\n",
       "    </tr>\n",
       "    <tr>\n",
       "      <th>1</th>\n",
       "      <td>00313ee0-9eaa-42f4-b0ab-c148ed3241cd</td>\n",
       "      <td>No Lung Opacity / Not Normal</td>\n",
       "    </tr>\n",
       "    <tr>\n",
       "      <th>2</th>\n",
       "      <td>00322d4d-1c29-4943-afc9-b6754be640eb</td>\n",
       "      <td>No Lung Opacity / Not Normal</td>\n",
       "    </tr>\n",
       "  </tbody>\n",
       "</table>\n",
       "</div>"
      ],
      "text/plain": [
       "                              patientId                         class\n",
       "0  0004cfab-14fd-4e49-80ba-63a80b6bddd6  No Lung Opacity / Not Normal\n",
       "1  00313ee0-9eaa-42f4-b0ab-c148ed3241cd  No Lung Opacity / Not Normal\n",
       "2  00322d4d-1c29-4943-afc9-b6754be640eb  No Lung Opacity / Not Normal"
      ]
     },
     "execution_count": 223,
     "metadata": {},
     "output_type": "execute_result"
    }
   ],
   "source": [
    "df_detailed_class_info = pd.read_csv(detailed_class_info)\n",
    "df_detailed_class_info.head(3)"
   ]
  },
  {
   "cell_type": "code",
   "execution_count": 224,
   "metadata": {},
   "outputs": [
    {
     "name": "stdout",
     "output_type": "stream",
     "text": [
      "No Lung Opacity / Not Normal    11500\n",
      "Lung Opacity                     8964\n",
      "Normal                           8525\n",
      "Name: class, dtype: int64\n",
      "total: 28989\n"
     ]
    },
    {
     "data": {
      "image/png": "[encoded data removed]",
      "text/plain": [
       "<Figure size 432x216 with 1 Axes>"
      ]
     },
     "metadata": {},
     "output_type": "display_data"
    }
   ],
   "source": [
    "df_plot = df_detailed_class_info['class'].value_counts()\n",
    "\n",
    "df_plot.plot(kind='bar',\n",
    "             color='gray',\n",
    "             figsize=(6,3))\n",
    "\n",
    "\n",
    "print(f\"{df_plot}\")\n",
    "print(f\"total: {sum(df_plot)}\")"
   ]
  },
  {
   "cell_type": "code",
   "execution_count": 225,
   "metadata": {},
   "outputs": [
    {
     "data": {
      "text/html": [
       "<div>\n",
       "<style scoped>\n",
       "    .dataframe tbody tr th:only-of-type {\n",
       "        vertical-align: middle;\n",
       "    }\n",
       "\n",
       "    .dataframe tbody tr th {\n",
       "        vertical-align: top;\n",
       "    }\n",
       "\n",
       "    .dataframe thead th {\n",
       "        text-align: right;\n",
       "    }\n",
       "</style>\n",
       "<table border=\"1\" class=\"dataframe\">\n",
       "  <thead>\n",
       "    <tr style=\"text-align: right;\">\n",
       "      <th></th>\n",
       "      <th>patientId</th>\n",
       "      <th>x</th>\n",
       "      <th>y</th>\n",
       "      <th>width</th>\n",
       "      <th>height</th>\n",
       "      <th>Target</th>\n",
       "    </tr>\n",
       "  </thead>\n",
       "  <tbody>\n",
       "    <tr>\n",
       "      <th>0</th>\n",
       "      <td>0004cfab-14fd-4e49-80ba-63a80b6bddd6</td>\n",
       "      <td>NaN</td>\n",
       "      <td>NaN</td>\n",
       "      <td>NaN</td>\n",
       "      <td>NaN</td>\n",
       "      <td>0</td>\n",
       "    </tr>\n",
       "    <tr>\n",
       "      <th>1</th>\n",
       "      <td>00313ee0-9eaa-42f4-b0ab-c148ed3241cd</td>\n",
       "      <td>NaN</td>\n",
       "      <td>NaN</td>\n",
       "      <td>NaN</td>\n",
       "      <td>NaN</td>\n",
       "      <td>0</td>\n",
       "    </tr>\n",
       "    <tr>\n",
       "      <th>2</th>\n",
       "      <td>00322d4d-1c29-4943-afc9-b6754be640eb</td>\n",
       "      <td>NaN</td>\n",
       "      <td>NaN</td>\n",
       "      <td>NaN</td>\n",
       "      <td>NaN</td>\n",
       "      <td>0</td>\n",
       "    </tr>\n",
       "    <tr>\n",
       "      <th>3</th>\n",
       "      <td>003d8fa0-6bf1-40ed-b54c-ac657f8495c5</td>\n",
       "      <td>NaN</td>\n",
       "      <td>NaN</td>\n",
       "      <td>NaN</td>\n",
       "      <td>NaN</td>\n",
       "      <td>0</td>\n",
       "    </tr>\n",
       "    <tr>\n",
       "      <th>4</th>\n",
       "      <td>00436515-870c-4b36-a041-de91049b9ab4</td>\n",
       "      <td>264.0</td>\n",
       "      <td>152.0</td>\n",
       "      <td>213.0</td>\n",
       "      <td>379.0</td>\n",
       "      <td>1</td>\n",
       "    </tr>\n",
       "    <tr>\n",
       "      <th>5</th>\n",
       "      <td>00436515-870c-4b36-a041-de91049b9ab4</td>\n",
       "      <td>562.0</td>\n",
       "      <td>152.0</td>\n",
       "      <td>256.0</td>\n",
       "      <td>453.0</td>\n",
       "      <td>1</td>\n",
       "    </tr>\n",
       "    <tr>\n",
       "      <th>6</th>\n",
       "      <td>00569f44-917d-4c86-a842-81832af98c30</td>\n",
       "      <td>NaN</td>\n",
       "      <td>NaN</td>\n",
       "      <td>NaN</td>\n",
       "      <td>NaN</td>\n",
       "      <td>0</td>\n",
       "    </tr>\n",
       "    <tr>\n",
       "      <th>7</th>\n",
       "      <td>006cec2e-6ce2-4549-bffa-eadfcd1e9970</td>\n",
       "      <td>NaN</td>\n",
       "      <td>NaN</td>\n",
       "      <td>NaN</td>\n",
       "      <td>NaN</td>\n",
       "      <td>0</td>\n",
       "    </tr>\n",
       "    <tr>\n",
       "      <th>8</th>\n",
       "      <td>00704310-78a8-4b38-8475-49f4573b2dbb</td>\n",
       "      <td>323.0</td>\n",
       "      <td>577.0</td>\n",
       "      <td>160.0</td>\n",
       "      <td>104.0</td>\n",
       "      <td>1</td>\n",
       "    </tr>\n",
       "    <tr>\n",
       "      <th>9</th>\n",
       "      <td>00704310-78a8-4b38-8475-49f4573b2dbb</td>\n",
       "      <td>695.0</td>\n",
       "      <td>575.0</td>\n",
       "      <td>162.0</td>\n",
       "      <td>137.0</td>\n",
       "      <td>1</td>\n",
       "    </tr>\n",
       "  </tbody>\n",
       "</table>\n",
       "</div>"
      ],
      "text/plain": [
       "                              patientId      x      y  width  height  Target\n",
       "0  0004cfab-14fd-4e49-80ba-63a80b6bddd6    NaN    NaN    NaN     NaN       0\n",
       "1  00313ee0-9eaa-42f4-b0ab-c148ed3241cd    NaN    NaN    NaN     NaN       0\n",
       "2  00322d4d-1c29-4943-afc9-b6754be640eb    NaN    NaN    NaN     NaN       0\n",
       "3  003d8fa0-6bf1-40ed-b54c-ac657f8495c5    NaN    NaN    NaN     NaN       0\n",
       "4  00436515-870c-4b36-a041-de91049b9ab4  264.0  152.0  213.0   379.0       1\n",
       "5  00436515-870c-4b36-a041-de91049b9ab4  562.0  152.0  256.0   453.0       1\n",
       "6  00569f44-917d-4c86-a842-81832af98c30    NaN    NaN    NaN     NaN       0\n",
       "7  006cec2e-6ce2-4549-bffa-eadfcd1e9970    NaN    NaN    NaN     NaN       0\n",
       "8  00704310-78a8-4b38-8475-49f4573b2dbb  323.0  577.0  160.0   104.0       1\n",
       "9  00704310-78a8-4b38-8475-49f4573b2dbb  695.0  575.0  162.0   137.0       1"
      ]
     },
     "execution_count": 225,
     "metadata": {},
     "output_type": "execute_result"
    }
   ],
   "source": [
    "df_train_labels = pd.read_csv(train_labels)\n",
    "df_train_labels.head(10)"
   ]
  },
  {
   "cell_type": "markdown",
   "metadata": {},
   "source": [
    "## make annotation dict"
   ]
  },
  {
   "cell_type": "code",
   "execution_count": 226,
   "metadata": {},
   "outputs": [],
   "source": [
    "label_map = {0: 'other', 1: 'high_density'}"
   ]
  },
  {
   "cell_type": "code",
   "execution_count": 227,
   "metadata": {},
   "outputs": [],
   "source": [
    "df_train_labels = df_train_labels.assign(label_idx = df_train_labels['Target']).head(1000)\n",
    "df_train_labels['label'] = df_train_labels['label_idx'].apply(lambda x: label_map[x])"
   ]
  },
  {
   "cell_type": "code",
   "execution_count": 228,
   "metadata": {},
   "outputs": [
    {
     "data": {
      "text/html": [
       "<div>\n",
       "<style scoped>\n",
       "    .dataframe tbody tr th:only-of-type {\n",
       "        vertical-align: middle;\n",
       "    }\n",
       "\n",
       "    .dataframe tbody tr th {\n",
       "        vertical-align: top;\n",
       "    }\n",
       "\n",
       "    .dataframe thead th {\n",
       "        text-align: right;\n",
       "    }\n",
       "</style>\n",
       "<table border=\"1\" class=\"dataframe\">\n",
       "  <thead>\n",
       "    <tr style=\"text-align: right;\">\n",
       "      <th></th>\n",
       "      <th>patientId</th>\n",
       "      <th>x</th>\n",
       "      <th>y</th>\n",
       "      <th>width</th>\n",
       "      <th>height</th>\n",
       "      <th>Target</th>\n",
       "      <th>label_idx</th>\n",
       "      <th>label</th>\n",
       "    </tr>\n",
       "  </thead>\n",
       "  <tbody>\n",
       "    <tr>\n",
       "      <th>0</th>\n",
       "      <td>0004cfab-14fd-4e49-80ba-63a80b6bddd6</td>\n",
       "      <td>NaN</td>\n",
       "      <td>NaN</td>\n",
       "      <td>NaN</td>\n",
       "      <td>NaN</td>\n",
       "      <td>0</td>\n",
       "      <td>0</td>\n",
       "      <td>other</td>\n",
       "    </tr>\n",
       "    <tr>\n",
       "      <th>1</th>\n",
       "      <td>00313ee0-9eaa-42f4-b0ab-c148ed3241cd</td>\n",
       "      <td>NaN</td>\n",
       "      <td>NaN</td>\n",
       "      <td>NaN</td>\n",
       "      <td>NaN</td>\n",
       "      <td>0</td>\n",
       "      <td>0</td>\n",
       "      <td>other</td>\n",
       "    </tr>\n",
       "    <tr>\n",
       "      <th>2</th>\n",
       "      <td>00322d4d-1c29-4943-afc9-b6754be640eb</td>\n",
       "      <td>NaN</td>\n",
       "      <td>NaN</td>\n",
       "      <td>NaN</td>\n",
       "      <td>NaN</td>\n",
       "      <td>0</td>\n",
       "      <td>0</td>\n",
       "      <td>other</td>\n",
       "    </tr>\n",
       "    <tr>\n",
       "      <th>3</th>\n",
       "      <td>003d8fa0-6bf1-40ed-b54c-ac657f8495c5</td>\n",
       "      <td>NaN</td>\n",
       "      <td>NaN</td>\n",
       "      <td>NaN</td>\n",
       "      <td>NaN</td>\n",
       "      <td>0</td>\n",
       "      <td>0</td>\n",
       "      <td>other</td>\n",
       "    </tr>\n",
       "    <tr>\n",
       "      <th>4</th>\n",
       "      <td>00436515-870c-4b36-a041-de91049b9ab4</td>\n",
       "      <td>264.0</td>\n",
       "      <td>152.0</td>\n",
       "      <td>213.0</td>\n",
       "      <td>379.0</td>\n",
       "      <td>1</td>\n",
       "      <td>1</td>\n",
       "      <td>high_density</td>\n",
       "    </tr>\n",
       "  </tbody>\n",
       "</table>\n",
       "</div>"
      ],
      "text/plain": [
       "                              patientId      x      y  width  height  Target  \\\n",
       "0  0004cfab-14fd-4e49-80ba-63a80b6bddd6    NaN    NaN    NaN     NaN       0   \n",
       "1  00313ee0-9eaa-42f4-b0ab-c148ed3241cd    NaN    NaN    NaN     NaN       0   \n",
       "2  00322d4d-1c29-4943-afc9-b6754be640eb    NaN    NaN    NaN     NaN       0   \n",
       "3  003d8fa0-6bf1-40ed-b54c-ac657f8495c5    NaN    NaN    NaN     NaN       0   \n",
       "4  00436515-870c-4b36-a041-de91049b9ab4  264.0  152.0  213.0   379.0       1   \n",
       "\n",
       "   label_idx         label  \n",
       "0          0         other  \n",
       "1          0         other  \n",
       "2          0         other  \n",
       "3          0         other  \n",
       "4          1  high_density  "
      ]
     },
     "execution_count": 228,
     "metadata": {},
     "output_type": "execute_result"
    }
   ],
   "source": [
    "df_train_labels.head(5)"
   ]
  },
  {
   "cell_type": "code",
   "execution_count": 229,
   "metadata": {},
   "outputs": [],
   "source": [
    "annotation_dict = utils.get_annotation_dict(df_train_labels=df_train_labels)"
   ]
  },
  {
   "cell_type": "code",
   "execution_count": 230,
   "metadata": {},
   "outputs": [
    {
     "data": {
      "text/plain": [
       "[('0004cfab-14fd-4e49-80ba-63a80b6bddd6', []),\n",
       " ('00313ee0-9eaa-42f4-b0ab-c148ed3241cd', []),\n",
       " ('00322d4d-1c29-4943-afc9-b6754be640eb', []),\n",
       " ('003d8fa0-6bf1-40ed-b54c-ac657f8495c5', []),\n",
       " ('00436515-870c-4b36-a041-de91049b9ab4',\n",
       "  [{'xmin': 264,\n",
       "    'xmax': 477,\n",
       "    'ymin': 152,\n",
       "    'ymax': 531,\n",
       "    'label': 'high_density',\n",
       "    'label_idx': 1},\n",
       "   {'xmin': 562,\n",
       "    'xmax': 818,\n",
       "    'ymin': 152,\n",
       "    'ymax': 605,\n",
       "    'label': 'high_density',\n",
       "    'label_idx': 1}])]"
      ]
     },
     "execution_count": 230,
     "metadata": {},
     "output_type": "execute_result"
    }
   ],
   "source": [
    "list(annotation_dict.items())[0:5]"
   ]
  },
  {
   "cell_type": "markdown",
   "metadata": {},
   "source": [
    "## make tfrecords"
   ]
  },
  {
   "cell_type": "code",
   "execution_count": 231,
   "metadata": {},
   "outputs": [],
   "source": [
    "annot = utils.Annot(annotation_dict)"
   ]
  },
  {
   "cell_type": "code",
   "execution_count": 232,
   "metadata": {},
   "outputs": [
    {
     "name": "stdout",
     "output_type": "stream",
     "text": [
      "train size: 665\n",
      "train size: 166\n"
     ]
    }
   ],
   "source": [
    "image = annot.create_ml_set(frame_path='../data/stage_1_train_images/', out_path='../ml/v1/data/')"
   ]
  },
  {
   "cell_type": "markdown",
   "metadata": {},
   "source": [
    "## visualize things"
   ]
  },
  {
   "cell_type": "code",
   "execution_count": 208,
   "metadata": {},
   "outputs": [
    {
     "data": {
      "text/plain": [
       "{'xmin': [264, 562],\n",
       " 'xmax': [477, 818],\n",
       " 'ymin': [152, 152],\n",
       " 'ymax': [531, 605],\n",
       " 'labels': ['high_density', 'high_density']}"
      ]
     },
     "execution_count": 208,
     "metadata": {},
     "output_type": "execute_result"
    }
   ],
   "source": [
    "annot.get_min_max_bbox(frame_id='00436515-870c-4b36-a041-de91049b9ab4')"
   ]
  },
  {
   "cell_type": "code",
   "execution_count": 209,
   "metadata": {},
   "outputs": [
    {
     "data": {
      "text/plain": [
       "{'xmin': [264, 562],\n",
       " 'widths': [213, 256],\n",
       " 'ymin': [152, 152],\n",
       " 'heights': [379, 453],\n",
       " 'labels': ['high_density', 'high_density']}"
      ]
     },
     "execution_count": 209,
     "metadata": {},
     "output_type": "execute_result"
    }
   ],
   "source": [
    "annot.get_min_size_bbox(frame_id='00436515-870c-4b36-a041-de91049b9ab4')"
   ]
  },
  {
   "cell_type": "code",
   "execution_count": 195,
   "metadata": {},
   "outputs": [
    {
     "data": {
      "text/plain": [
       "78"
      ]
     },
     "execution_count": 195,
     "metadata": {},
     "output_type": "execute_result"
    }
   ],
   "source": [
    "len(annot)"
   ]
  },
  {
   "cell_type": "code",
   "execution_count": 140,
   "metadata": {},
   "outputs": [],
   "source": [
    "image = utils.Annot.get_image(frame_path=train_dicom_dir, frame_id='00436515-870c-4b36-a041-de91049b9ab4')"
   ]
  },
  {
   "cell_type": "code",
   "execution_count": 141,
   "metadata": {},
   "outputs": [
    {
     "data": {
      "text/plain": [
       "{'../data/stage_1_train_images/00322d4d-1c29-4943-afc9-b6754be640eb.dcm': [],\n",
       " '../data/stage_1_train_images/003d8fa0-6bf1-40ed-b54c-ac657f8495c5.dcm': [],\n",
       " '../data/stage_1_train_images/00436515-870c-4b36-a041-de91049b9ab4.dcm': [{'name': 'high_density',\n",
       "   'xmin': 264,\n",
       "   'xmax': 477,\n",
       "   'ymin': 152,\n",
       "   'ymax': 531},\n",
       "  {'name': 'high_density',\n",
       "   'xmin': 562,\n",
       "   'xmax': 818,\n",
       "   'ymin': 152,\n",
       "   'ymax': 605}],\n",
       " '../data/stage_1_train_images/00569f44-917d-4c86-a842-81832af98c30.dcm': [],\n",
       " '../data/stage_1_train_images/006cec2e-6ce2-4549-bffa-eadfcd1e9970.dcm': [],\n",
       " '../data/stage_1_train_images/00704310-78a8-4b38-8475-49f4573b2dbb.dcm': [{'name': 'high_density',\n",
       "   'xmin': 323,\n",
       "   'xmax': 483,\n",
       "   'ymin': 577,\n",
       "   'ymax': 681},\n",
       "  {'name': 'high_density',\n",
       "   'xmin': 695,\n",
       "   'xmax': 857,\n",
       "   'ymin': 575,\n",
       "   'ymax': 712}]}"
      ]
     },
     "execution_count": 141,
     "metadata": {},
     "output_type": "execute_result"
    }
   ],
   "source": [
    "\n",
    "def get_bbox_from_tfrec(example, label_idx, source=\"detection\"):\n",
    "    \"\"\"Extracting bbox from tf record files.\n",
    "    Args:\n",
    "        source: Either detect or object, default value is detect.\n",
    "        example: tf.train.Example()\n",
    "        label_idx: idx of the bbox.\n",
    "    Returns:\n",
    "        xmin, xmax, ymin, ymax of boxes.\n",
    "    Raises:\n",
    "        ValueError: in case the user mistakenly type wrong source.\n",
    "    \"\"\"\n",
    "    if source not in [\"object\", \"detection\"]:\n",
    "        raise ValueError(\"The source has to be either detect or object.\")\n",
    "\n",
    "    xmin = example.features.feature[f\"image/{source}/bbox/xmin\"].float_list.value[label_idx]\n",
    "    xmax = example.features.feature[f\"image/{source}/bbox/xmax\"].float_list.value[label_idx]\n",
    "    ymin = example.features.feature[f\"image/{source}/bbox/ymin\"].float_list.value[label_idx]\n",
    "    ymax = example.features.feature[f\"image/{source}/bbox/ymax\"].float_list.value[label_idx]\n",
    "\n",
    "    return xmin, xmax, ymin, ymax\n",
    "\n",
    "def get_frame_metadata_from_tfrec(example):\n",
    "    \"\"\"Get basic frame information from tfrecord files.\n",
    "    Args:\n",
    "        example: tf.train.Example()\n",
    "    Returns:\n",
    "        frame_id, height, width of the frame.\n",
    "    \"\"\"\n",
    "    frame_id = example.features.feature[\"image/filename\"].bytes_list.value[0]\n",
    "    height = example.features.feature[\"image/height\"].int64_list.value[0]\n",
    "    width = example.features.feature[\"image/width\"].int64_list.value[0]\n",
    "\n",
    "    return frame_id, height, width\n",
    "\n",
    "\n",
    "def _from_gt_tfrec(tfrec_path):\n",
    "    annots = {}\n",
    "    for string_record in tf.python_io.tf_record_iterator(path=tfrec_path):\n",
    "        example = tf.train.Example()\n",
    "        example.ParseFromString(string_record)\n",
    "\n",
    "        frame_id, height, width = get_frame_metadata_from_tfrec(example)\n",
    "        labels = example.features.feature[\"image/object/class/text\"].bytes_list.value\n",
    "\n",
    "        deepturn_annots = []\n",
    "        for idx, label in enumerate(labels):\n",
    "            xmin, xmax, ymin, ymax = get_bbox_from_tfrec(source=\"object\",\n",
    "                                                               example=example,\n",
    "                                                               label_idx=idx)\n",
    "\n",
    "            deepturn_annots.append(\n",
    "                dict(\n",
    "                    name=label.decode(\"utf-8\"),\n",
    "                    xmin=round(xmin * width),\n",
    "                    xmax=round(xmax * width),\n",
    "                    ymin=round(ymin * height),\n",
    "                    ymax=round(ymax * height),\n",
    "                )\n",
    "            )\n",
    "        annots[frame_id.decode(\"utf-8\")] = deepturn_annots\n",
    "\n",
    "    return annots\n",
    "\n",
    "\n",
    "_from_gt_tfrec('/home/mhess/kaggle/rsna/ml/v1/data/train.tfrec')"
   ]
  },
  {
   "cell_type": "code",
   "execution_count": 71,
   "metadata": {},
   "outputs": [
    {
     "data": {
      "text/plain": [
       "<matplotlib.patches.Rectangle at 0x7f3c44325e10>"
      ]
     },
     "execution_count": 71,
     "metadata": {},
     "output_type": "execute_result"
    },
    {
     "data": {
      "image/png": "[encoded data removed]",
      "text/plain": [
       "<Figure size 720x720 with 1 Axes>"
      ]
     },
     "metadata": {},
     "output_type": "display_data"
    }
   ],
   "source": [
    "# Load and display random samples and their bounding boxes\n",
    "# Suggestion: Run this a few times to see different examples. \n",
    "\n",
    "\n",
    "\n",
    "plt.figure(figsize=(10, 10))\n",
    "plt.subplot(1, 2, 1)\n",
    "plt.imshow(image, cmap='gray')\n",
    "# plt.axis('off')\n",
    "\n",
    "# plt.subplot(1, 2, 2)\n",
    "# masked = np.zeros(image.shape[:2])\n",
    "\n",
    "# plt.imshow(masked, cmap='gray')\n",
    "# plt.axis('off')\n",
    "\n",
    "# print(image_fp)\n",
    "# print(class_ids)\n",
    "\n",
    "\n",
    "rect = plt.Rectangle((264, 152), 213, 379)\n",
    "# plt.Rectangle()\n",
    "\n",
    "plt.gca().add_patch(rect)"
   ]
  },
  {
   "cell_type": "code",
   "execution_count": null,
   "metadata": {},
   "outputs": [],
   "source": []
  }
 ],
 "metadata": {
  "kernelspec": {
   "display_name": "venv363_tf_",
   "language": "python",
   "name": "venv363_tf_"
  },
  "language_info": {
   "codemirror_mode": {
    "name": "ipython",
    "version": 3
   },
   "file_extension": ".py",
   "mimetype": "text/x-python",
   "name": "python",
   "nbconvert_exporter": "python",
   "pygments_lexer": "ipython3",
   "version": "3.6.3"
  }
 },
 "nbformat": 4,
 "nbformat_minor": 2
}
