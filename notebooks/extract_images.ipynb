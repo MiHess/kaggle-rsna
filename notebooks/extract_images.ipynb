{
 "cells": [
  {
   "cell_type": "code",
   "execution_count": 1,
   "metadata": {},
   "outputs": [],
   "source": [
    "%load_ext autoreload\n",
    "%autoreload 2"
   ]
  },
  {
   "cell_type": "code",
   "execution_count": 2,
   "metadata": {},
   "outputs": [],
   "source": [
    "import os\n",
    "import sys\n",
    "import tensorflow as tf\n",
    "import glob\n",
    "import pydicom\n",
    "import PIL\n",
    "\n",
    "from PIL import ImageOps\n",
    "from tqdm import tqdm_notebook\n",
    "from multiprocessing import Pool\n",
    "from multiprocessing import cpu_count\n",
    "\n",
    "sys.path.append('../')\n",
    "from rsna import utils"
   ]
  },
  {
   "cell_type": "markdown",
   "metadata": {},
   "source": [
    "## config"
   ]
  },
  {
   "cell_type": "code",
   "execution_count": 3,
   "metadata": {},
   "outputs": [
    {
     "name": "stdout",
     "output_type": "stream",
     "text": [
      "GCP Credits Request Link - RSNA.txt  stage_1_test_images_jpg\r\n",
      "all.zip\t\t\t\t     stage_1_test_images_jpg_dev\r\n",
      "label_map.pbtxt\t\t\t     stage_1_test_images_jpg_eqhist\r\n",
      "stage_1_detailed_class_info.csv      stage_1_train_images\r\n",
      "stage_1_sample_submission.csv\t     stage_1_train_images.zip\r\n",
      "stage_1_test_images\t\t     stage_1_train_images_jpg\r\n",
      "stage_1_test_images.zip\t\t     stage_1_train_images_jpg_eqhist\r\n",
      "stage_1_test_images_dcm_dev\t     stage_1_train_labels.csv\r\n"
     ]
    }
   ],
   "source": [
    "! ls /mirco-kaggle/rsna/"
   ]
  },
  {
   "cell_type": "code",
   "execution_count": 4,
   "metadata": {},
   "outputs": [],
   "source": [
    "# source_images_path = \"/mirco-kaggle/rsna/stage_1_test_images/\"\n",
    "source_images_path = \"/mirco-kaggle/rsna/stage_1_train_images/\"\n"
   ]
  },
  {
   "cell_type": "code",
   "execution_count": 5,
   "metadata": {},
   "outputs": [],
   "source": [
    "# destination_images_path = \"/mirco-kaggle/rsna/stage_1_test_images_jpg/\"\n",
    "# destination_images_path = \"/mirco-kaggle/rsna/stage_1_train_images_jpg/\"\n",
    "\n",
    "# destination_images_path = \"/mirco-kaggle/rsna/stage_1_test_images_jpg_eqhist/\"\n",
    "# destination_images_path = \"/mirco-kaggle/rsna/stage_1_train_images_jpg_eqhist/\"\n",
    "destination_images_path = \"/home/ubuntu/stage_1_train_images_jpg_eqhist/\""
   ]
  },
  {
   "cell_type": "code",
   "execution_count": 6,
   "metadata": {},
   "outputs": [],
   "source": [
    "if not os.path.exists(destination_images_path):\n",
    "    os.makedirs(destination_images_path)"
   ]
  },
  {
   "cell_type": "code",
   "execution_count": 7,
   "metadata": {},
   "outputs": [
    {
     "name": "stdout",
     "output_type": "stream",
     "text": [
      "total number of DCM files: 25684\n"
     ]
    }
   ],
   "source": [
    "dcm_image_filepaths = glob.glob(os.path.join(source_images_path, \"*.dcm\"))\n",
    "print(f\"total number of DCM files: {len(dcm_image_filepaths)}\")"
   ]
  },
  {
   "cell_type": "markdown",
   "metadata": {},
   "source": [
    "## extract image from dcm"
   ]
  },
  {
   "cell_type": "code",
   "execution_count": 8,
   "metadata": {},
   "outputs": [],
   "source": [
    "def dcm_to_jpg(dcm_image_filepath):\n",
    "    image_filename = os.path.basename(dcm_image_filepath).split(\".\")[0]\n",
    "    image_array = utils.Annot._read_dcm(dcm_image_filepath)\n",
    "    image_pil = PIL.Image.fromarray(image_array)\n",
    "    \n",
    "    image_pil = ImageOps.equalize(image_pil)\n",
    "    \n",
    "    image_pil.save(os.path.join(destination_images_path, image_filename + \".jpg\"), \"JPEG\", quality=100)"
   ]
  },
  {
   "cell_type": "code",
   "execution_count": 9,
   "metadata": {},
   "outputs": [
    {
     "data": {
      "application/vnd.jupyter.widget-view+json": {
       "model_id": "a0faf9748ae145f9a2ae16b31b27c322",
       "version_major": 2,
       "version_minor": 0
      },
      "text/plain": [
       "HBox(children=(IntProgress(value=0, max=45), HTML(value='')))"
      ]
     },
     "metadata": {},
     "output_type": "display_data"
    },
    {
     "name": "stdout",
     "output_type": "stream",
     "text": [
      "\n"
     ]
    }
   ],
   "source": [
    "with Pool(cpu_count()) as p:\n",
    "    tf_examples = list(tqdm_notebook(p.imap(dcm_to_jpg, dcm_image_filepaths), total=len(destination_images_path)))"
   ]
  },
  {
   "cell_type": "markdown",
   "metadata": {},
   "source": [
    "## potentially fix jpgs"
   ]
  },
  {
   "cell_type": "code",
   "execution_count": 10,
   "metadata": {},
   "outputs": [],
   "source": [
    "# from: https://github.com/tensorflow/models/issues/2194\n",
    "\n",
    "def fix_jpg():\n",
    "    path_images = destination_images_path\n",
    "    filenames_src = tf.gfile.ListDirectory(path_images)\n",
    "    for filename_src in tqdm_notebook(filenames_src):\n",
    "        stem, extension = os.path.splitext(filename_src)\n",
    "        if (extension.lower() != '.jpg'): continue\n",
    "\n",
    "\n",
    "        pathname_jpg = '{}/{}'.format(path_images, filename_src)\n",
    "        with tf.gfile.GFile(pathname_jpg, 'rb') as fid:\n",
    "            encoded_jpg = fid.read(4)\n",
    "        # png\n",
    "        if(encoded_jpg[0] == 0x89 and encoded_jpg[1] == 0x50 and encoded_jpg[2] == 0x4e and encoded_jpg[3] == 0x47):\n",
    "            # copy jpg->png then encode png->jpg\n",
    "            print('png:{}'.format(filename_src))\n",
    "            pathname_png = '{}/{}.png'.format(path_images, stem)\n",
    "            tf.gfile.Copy(pathname_jpg, pathname_png, True)\n",
    "            PIL.Image.open(pathname_png).convert('RGB').save(pathname_jpg, \"jpeg\")   \n",
    "        # gif\n",
    "        elif(encoded_jpg[0] == 0x47 and encoded_jpg[1] == 0x49 and encoded_jpg[2] == 0x46):\n",
    "            # copy jpg->gif then encode gif->jpg\n",
    "            print('gif:{}'.format(filename_src))\n",
    "            pathname_gif = '{}/{}.gif'.format(path_images, stem)\n",
    "            tf.gfile.Copy(pathname_jpg, pathname_gif, True)\n",
    "            PIL.Image.open(pathname_gif).convert('RGB').save(pathname_jpg, \"jpeg\")   \n",
    "        elif(filename_src == 'beagle_116.jpg' or filename_src == 'chihuahua_121.jpg'):\n",
    "            # copy jpg->jpeg then encode jpeg->jpg\n",
    "            print('jpeg:{}'.format(filename_src))\n",
    "            pathname_jpeg = '{}/{}.jpeg'.format(path_images, stem)\n",
    "            tf.gfile.Copy(pathname_jpg, pathname_jpeg, True)\n",
    "            PIL.Image.open(pathname_jpeg).convert('RGB').save(pathname_jpg, \"jpeg\")   \n",
    "        elif(encoded_jpg[0] != 0xff or encoded_jpg[1] != 0xd8 or encoded_jpg[2] != 0xff):\n",
    "            print('not jpg:{}'.format(filename_src))\n"
   ]
  },
  {
   "cell_type": "code",
   "execution_count": 11,
   "metadata": {},
   "outputs": [
    {
     "data": {
      "application/vnd.jupyter.widget-view+json": {
       "model_id": "19893eaaab3349c68af1bc42f816c88d",
       "version_major": 2,
       "version_minor": 0
      },
      "text/plain": [
       "HBox(children=(IntProgress(value=0, max=25684), HTML(value='')))"
      ]
     },
     "metadata": {},
     "output_type": "display_data"
    },
    {
     "name": "stdout",
     "output_type": "stream",
     "text": [
      "\n"
     ]
    }
   ],
   "source": [
    "fix_jpg()"
   ]
  }
 ],
 "metadata": {
  "kernelspec": {
   "display_name": "Python 3",
   "language": "python",
   "name": "python3"
  },
  "language_info": {
   "codemirror_mode": {
    "name": "ipython",
    "version": 3
   },
   "file_extension": ".py",
   "mimetype": "text/x-python",
   "name": "python",
   "nbconvert_exporter": "python",
   "pygments_lexer": "ipython3",
   "version": "3.6.5"
  }
 },
 "nbformat": 4,
 "nbformat_minor": 2
}
