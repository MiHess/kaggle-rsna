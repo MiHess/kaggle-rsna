{
 "cells": [
  {
   "cell_type": "code",
   "execution_count": 1,
   "metadata": {},
   "outputs": [],
   "source": [
    "%load_ext autoreload\n",
    "%autoreload 2"
   ]
  },
  {
   "cell_type": "code",
   "execution_count": 41,
   "metadata": {},
   "outputs": [],
   "source": [
    "import os\n",
    "import sys\n",
    "import pandas as pd\n",
    "import numpy as np\n",
    "import tensorflow as tf\n",
    "import logging\n",
    "import glob\n",
    "import random\n",
    "import pydicom\n",
    "import json\n",
    "import PIL\n",
    "import boto3\n",
    "\n",
    "from tqdm import tqdm_notebook\n",
    "from multiprocessing import Pool\n",
    "from multiprocessing import cpu_count\n",
    "\n",
    "sys.path.append('../')\n",
    "from rsna import utils"
   ]
  },
  {
   "cell_type": "code",
   "execution_count": 3,
   "metadata": {},
   "outputs": [],
   "source": [
    "%matplotlib inline\n",
    "import matplotlib.pyplot as plt"
   ]
  },
  {
   "cell_type": "code",
   "execution_count": 4,
   "metadata": {},
   "outputs": [
    {
     "name": "stdout",
     "output_type": "stream",
     "text": [
      "all.zip\t\t\t\t     stage_1_test_images_dcm_dev\r\n",
      "GCP Credits Request Link - RSNA.txt  stage_1_test_images_jpg_dev\r\n",
      "label_map.pbtxt\t\t\t     stage_1_test_images.zip\r\n",
      "stage_1_detailed_class_info.csv      stage_1_train_images\r\n",
      "stage_1_sample_submission.csv\t     stage_1_train_images.zip\r\n",
      "stage_1_test_images\t\t     stage_1_train_labels.csv\r\n"
     ]
    }
   ],
   "source": [
    "! ls /mirco-kaggle/rsna/"
   ]
  },
  {
   "cell_type": "code",
   "execution_count": 66,
   "metadata": {},
   "outputs": [],
   "source": [
    "source_images_path = \"/mirco-kaggle/rsna/stage_1_test_images/\""
   ]
  },
  {
   "cell_type": "code",
   "execution_count": 65,
   "metadata": {},
   "outputs": [],
   "source": [
    "# destination_images_path = \"/mirco-kaggle/rsna/stage_1_test_images_jpg_dev/\"\n",
    "destination_images_path = \"/home/mhess/stage_1_test_images_jpg_dev/\""
   ]
  },
  {
   "cell_type": "code",
   "execution_count": 67,
   "metadata": {},
   "outputs": [],
   "source": [
    "dcm_image_filepaths = glob.glob(os.path.join(source_images_path, \"*.dcm\"))"
   ]
  },
  {
   "cell_type": "code",
   "execution_count": 68,
   "metadata": {},
   "outputs": [
    {
     "data": {
      "text/plain": [
       "1000"
      ]
     },
     "execution_count": 68,
     "metadata": {},
     "output_type": "execute_result"
    }
   ],
   "source": [
    "len(dcm_image_filepaths)"
   ]
  },
  {
   "cell_type": "code",
   "execution_count": 69,
   "metadata": {},
   "outputs": [],
   "source": [
    "def dcm_to_jpg(dcm_image_filepath):\n",
    "    \n",
    "    image_filename = os.path.basename(dcm_image_filepath).split(\".\")[0]\n",
    "    \n",
    "    image_array = utils.Annot._read_dcm(dcm_image_filepath)\n",
    "    image_pil = PIL.Image.fromarray(image_array)\n",
    "    image_pil.save(os.path.join(destination_images_path, image_filename + \".jpg\"), \"JPEG\", quality=100)\n",
    "#     print(image_filename)"
   ]
  },
  {
   "cell_type": "code",
   "execution_count": 70,
   "metadata": {},
   "outputs": [
    {
     "data": {
      "application/vnd.jupyter.widget-view+json": {
       "model_id": "95d93e95a3fd4f43858750921e6cc3e7",
       "version_major": 2,
       "version_minor": 0
      },
      "text/plain": [
       "HBox(children=(IntProgress(value=0, max=40), HTML(value='')))"
      ]
     },
     "metadata": {},
     "output_type": "display_data"
    },
    {
     "name": "stdout",
     "output_type": "stream",
     "text": [
      "\n"
     ]
    }
   ],
   "source": [
    "with Pool(cpu_count()) as p:\n",
    "    tf_examples = list(tqdm_notebook(p.imap(dcm_to_jpg, dcm_image_filepaths), total=len(destination_images_path)))"
   ]
  },
  {
   "cell_type": "code",
   "execution_count": 51,
   "metadata": {},
   "outputs": [],
   "source": [
    "destination_images_path = \"/home/mhess/stage_1_test_images_jpg_dev/\""
   ]
  },
  {
   "cell_type": "code",
   "execution_count": 63,
   "metadata": {},
   "outputs": [],
   "source": [
    "\n",
    "def change():\n",
    "    path_images = destination_images_path\n",
    "    filenames_src = tf.gfile.ListDirectory(path_images)\n",
    "    for filename_src in tqdm_notebook(filenames_src):\n",
    "        stem, extension = os.path.splitext(filename_src)\n",
    "        if (extension.lower() != '.jpg'): continue\n",
    "\n",
    "\n",
    "        pathname_jpg = '{}/{}'.format(path_images, filename_src)\n",
    "        with tf.gfile.GFile(pathname_jpg, 'rb') as fid:\n",
    "            encoded_jpg = fid.read(4)\n",
    "        # png\n",
    "        if(encoded_jpg[0] == 0x89 and encoded_jpg[1] == 0x50 and encoded_jpg[2] == 0x4e and encoded_jpg[3] == 0x47):\n",
    "            # copy jpg->png then encode png->jpg\n",
    "            print('png:{}'.format(filename_src))\n",
    "            pathname_png = '{}/{}.png'.format(path_images, stem)\n",
    "            tf.gfile.Copy(pathname_jpg, pathname_png, True)\n",
    "            PIL.Image.open(pathname_png).convert('RGB').save(pathname_jpg, \"jpeg\")   \n",
    "        # gif\n",
    "        elif(encoded_jpg[0] == 0x47 and encoded_jpg[1] == 0x49 and encoded_jpg[2] == 0x46):\n",
    "            # copy jpg->gif then encode gif->jpg\n",
    "            print('gif:{}'.format(filename_src))\n",
    "            pathname_gif = '{}/{}.gif'.format(path_images, stem)\n",
    "            tf.gfile.Copy(pathname_jpg, pathname_gif, True)\n",
    "            PIL.Image.open(pathname_gif).convert('RGB').save(pathname_jpg, \"jpeg\")   \n",
    "        elif(filename_src == 'beagle_116.jpg' or filename_src == 'chihuahua_121.jpg'):\n",
    "            # copy jpg->jpeg then encode jpeg->jpg\n",
    "            print('jpeg:{}'.format(filename_src))\n",
    "            pathname_jpeg = '{}/{}.jpeg'.format(path_images, stem)\n",
    "            tf.gfile.Copy(pathname_jpg, pathname_jpeg, True)\n",
    "            PIL.Image.open(pathname_jpeg).convert('RGB').save(pathname_jpg, \"jpeg\")   \n",
    "        elif(encoded_jpg[0] != 0xff or encoded_jpg[1] != 0xd8 or encoded_jpg[2] != 0xff):\n",
    "            print('not jpg:{}'.format(filename_src))\n"
   ]
  },
  {
   "cell_type": "code",
   "execution_count": null,
   "metadata": {},
   "outputs": [],
   "source": []
  },
  {
   "cell_type": "code",
   "execution_count": 64,
   "metadata": {},
   "outputs": [
    {
     "data": {
      "application/vnd.jupyter.widget-view+json": {
       "model_id": "d04b35d0e3a64ac59a0401fc9b2a33d9",
       "version_major": 2,
       "version_minor": 0
      },
      "text/plain": [
       "HBox(children=(IntProgress(value=0), HTML(value='')))"
      ]
     },
     "metadata": {},
     "output_type": "display_data"
    },
    {
     "name": "stdout",
     "output_type": "stream",
     "text": [
      "\n"
     ]
    }
   ],
   "source": [
    "change()"
   ]
  },
  {
   "cell_type": "code",
   "execution_count": null,
   "metadata": {},
   "outputs": [],
   "source": []
  }
 ],
 "metadata": {
  "kernelspec": {
   "display_name": "Python 3",
   "language": "python",
   "name": "python3"
  },
  "language_info": {
   "codemirror_mode": {
    "name": "ipython",
    "version": 3
   },
   "file_extension": ".py",
   "mimetype": "text/x-python",
   "name": "python",
   "nbconvert_exporter": "python",
   "pygments_lexer": "ipython3",
   "version": "3.6.3"
  }
 },
 "nbformat": 4,
 "nbformat_minor": 2
}
